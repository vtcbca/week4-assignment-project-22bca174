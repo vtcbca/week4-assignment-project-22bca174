{
 "cells": [
  {
   "cell_type": "code",
   "execution_count": 1,
   "id": "019de1d6",
   "metadata": {},
   "outputs": [],
   "source": [
    "import sqlite3 as sq\n",
    "import datetime"
   ]
  },
  {
   "cell_type": "code",
   "execution_count": 2,
   "id": "785d9a00",
   "metadata": {},
   "outputs": [],
   "source": [
    "con = sq.connect(\"contactmanagementsystem.db\")"
   ]
  },
  {
   "cell_type": "code",
   "execution_count": 3,
   "id": "9aa797fa",
   "metadata": {},
   "outputs": [],
   "source": [
    "cur = con.cursor()"
   ]
  },
  {
   "cell_type": "code",
   "execution_count": 4,
   "id": "2a63c3cc",
   "metadata": {},
   "outputs": [
    {
     "data": {
      "text/plain": [
       "<sqlite3.Cursor at 0x1da3ad650c0>"
      ]
     },
     "execution_count": 4,
     "metadata": {},
     "output_type": "execute_result"
    }
   ],
   "source": [
    "cur.execute(\"\"\"create table if not exists contact\n",
    "               ( cid int primary key,\n",
    "                 fname text,\n",
    "                 lname text,\n",
    "                 contact number,\n",
    "                 email text,\n",
    "                 city text\n",
    "                 check ( email like '%_@_%._%')\n",
    "                );\"\"\")"
   ]
  },
  {
   "cell_type": "code",
   "execution_count": 5,
   "id": "0a24cefe",
   "metadata": {},
   "outputs": [
    {
     "data": {
      "text/plain": [
       "<sqlite3.Cursor at 0x1da3ad650c0>"
      ]
     },
     "execution_count": 5,
     "metadata": {},
     "output_type": "execute_result"
    }
   ],
   "source": [
    "cur.execute(\"\"\"create table if not exists details_log\n",
    "                (\n",
    "                    \n",
    "                    fname text,\n",
    "                    lname text,\n",
    "                    newcontact number,\n",
    "                    oldcontact number,\n",
    "                    datetime text,\n",
    "                    operation text\n",
    "                    \n",
    "                )\"\"\")"
   ]
  },
  {
   "cell_type": "code",
   "execution_count": 6,
   "id": "4136ce06",
   "metadata": {},
   "outputs": [
    {
     "data": {
      "text/plain": [
       "<sqlite3.Cursor at 0x1da3ad650c0>"
      ]
     },
     "execution_count": 6,
     "metadata": {},
     "output_type": "execute_result"
    }
   ],
   "source": [
    "cur.execute(\"\"\"create trigger if not exists insertdata\n",
    "               after insert on contact\n",
    "               begin\n",
    "                   insert into details_log\n",
    "                   values(new.fname,new.lname,new.contact,'NULL',datetime('now'),'insert');\n",
    "               end;\n",
    "                   \"\"\")"
   ]
  },
  {
   "cell_type": "code",
   "execution_count": 7,
   "id": "c4b8d42e",
   "metadata": {},
   "outputs": [
    {
     "data": {
      "text/plain": [
       "<sqlite3.Cursor at 0x1da3ad650c0>"
      ]
     },
     "execution_count": 7,
     "metadata": {},
     "output_type": "execute_result"
    }
   ],
   "source": [
    "cur.execute(\"\"\"create trigger if not exists deletedata\n",
    "               after delete on contact\n",
    "               begin\n",
    "                   insert into details_log\n",
    "                   values(old.fname,old.lname,'NULL',old.contact,datetime('now'),'delete');\n",
    "               end;\n",
    "                   \"\"\")"
   ]
  },
  {
   "cell_type": "code",
   "execution_count": 8,
   "id": "55a6a57a",
   "metadata": {},
   "outputs": [
    {
     "data": {
      "text/plain": [
       "<sqlite3.Cursor at 0x1da3ad650c0>"
      ]
     },
     "execution_count": 8,
     "metadata": {},
     "output_type": "execute_result"
    }
   ],
   "source": [
    "cur.execute(\"\"\"create trigger if not exists updatedata\n",
    "               after update on contact\n",
    "               begin\n",
    "                   insert into details_log\n",
    "                   values(new.fname,new.lname,new.contact,old.contact,datetime('now'),'update');\n",
    "               end;\n",
    "                   \"\"\")"
   ]
  },
  {
   "cell_type": "code",
   "execution_count": 9,
   "id": "5cfb4863",
   "metadata": {},
   "outputs": [],
   "source": [
    "def updaterecord(cd):\n",
    "    newcon=int(input(\"Enter new Contact Number:\"))\n",
    "    cur.execute(f\"Update contact set contact={newcon} where cid={cd};\")"
   ]
  },
  {
   "cell_type": "code",
   "execution_count": 1,
   "id": "6a796ac9",
   "metadata": {},
   "outputs": [],
   "source": [
    "def deleterecord(cd):\n",
    "    cur.execute(f\"delete from contact where cid={cd}\")\n"
   ]
  },
  {
   "cell_type": "code",
   "execution_count": 11,
   "id": "b91f8f60",
   "metadata": {},
   "outputs": [],
   "source": [
    "def searchrecord(cd):\n",
    "    cur.execute(f\"select * from contact where cid={cd}\")\n",
    "    row=cur.fetchall()\n",
    "    print(row)"
   ]
  },
  {
   "cell_type": "code",
   "execution_count": 12,
   "id": "8e94c38e",
   "metadata": {},
   "outputs": [
    {
     "data": {
      "text/plain": [
       "<sqlite3.Cursor at 0x1da3ad650c0>"
      ]
     },
     "execution_count": 12,
     "metadata": {},
     "output_type": "execute_result"
    }
   ],
   "source": [
    "cur.execute(\"\"\"insert into contact values\n",
    "                (101,'priya','patel',6744521720,'patel@gmail.com','delhi'),\n",
    "                (102,'suha','patel',3457685904,'hana@gmail.com','bardoli'),\n",
    "                (103,'ram','shah',7665445645,'patel@gmail.com','madhii'),\n",
    "                (104,'ruhina','gamit',4562879567,'ruh@gmail.com','surat'),\n",
    "                (105,'sunil','rathod',6532212256,'nil@gmail.com','bardoli');\"\"\")"
   ]
  },
  {
   "cell_type": "code",
   "execution_count": 13,
   "id": "73e02d06",
   "metadata": {},
   "outputs": [
    {
     "name": "stdout",
     "output_type": "stream",
     "text": [
      "\n",
      "ID:101\n",
      "Fname:priya\n",
      "Lname:patel\n",
      "Contact:6744521720\n",
      "Email:patel@gmail.com\n",
      "city:delhi\n",
      "\n",
      "ID:102\n",
      "Fname:suha\n",
      "Lname:patel\n",
      "Contact:3457685904\n",
      "Email:hana@gmail.com\n",
      "city:bardoli\n",
      "\n",
      "ID:103\n",
      "Fname:ram\n",
      "Lname:shah\n",
      "Contact:7665445645\n",
      "Email:patel@gmail.com\n",
      "city:madhii\n",
      "\n",
      "ID:104\n",
      "Fname:ruhina\n",
      "Lname:gamit\n",
      "Contact:4562879567\n",
      "Email:ruh@gmail.com\n",
      "city:surat\n",
      "\n",
      "ID:105\n",
      "Fname:sunil\n",
      "Lname:rathod\n",
      "Contact:6532212256\n",
      "Email:nil@gmail.com\n",
      "city:bardoli\n"
     ]
    }
   ],
   "source": [
    "cur.execute(\"select * from contact\")\n",
    "row=cur.fetchall()\n",
    "for i in row:\n",
    "    print(f\"\\nID:{i[0]}\\nFname:{i[1]}\\nLname:{i[2]}\\nContact:{i[3]}\\nEmail:{i[4]}\\ncity:{i[5]}\")"
   ]
  },
  {
   "cell_type": "code",
   "execution_count": 14,
   "id": "a2b84112",
   "metadata": {},
   "outputs": [
    {
     "name": "stdout",
     "output_type": "stream",
     "text": [
      "[('priya', 'patel', 6744521720, 'NULL', '2023-08-11 16:18:21', 'insert'), ('suha', 'patel', 3457685904, 'NULL', '2023-08-11 16:18:21', 'insert'), ('ram', 'shah', 7665445645, 'NULL', '2023-08-11 16:18:21', 'insert'), ('ruhina', 'gamit', 4562879567, 'NULL', '2023-08-11 16:18:21', 'insert'), ('sunil', 'rathod', 6532212256, 'NULL', '2023-08-11 16:18:21', 'insert')]\n",
      "\n",
      "Fname:priya\n",
      "Lname:patel\n",
      "New-contact:6744521720\n",
      "Old-Contact:NULL\n",
      "Datetime:2023-08-11 16:18:21\n",
      "Operation:insert\n",
      "\n",
      "Fname:suha\n",
      "Lname:patel\n",
      "New-contact:3457685904\n",
      "Old-Contact:NULL\n",
      "Datetime:2023-08-11 16:18:21\n",
      "Operation:insert\n",
      "\n",
      "Fname:ram\n",
      "Lname:shah\n",
      "New-contact:7665445645\n",
      "Old-Contact:NULL\n",
      "Datetime:2023-08-11 16:18:21\n",
      "Operation:insert\n",
      "\n",
      "Fname:ruhina\n",
      "Lname:gamit\n",
      "New-contact:4562879567\n",
      "Old-Contact:NULL\n",
      "Datetime:2023-08-11 16:18:21\n",
      "Operation:insert\n",
      "\n",
      "Fname:sunil\n",
      "Lname:rathod\n",
      "New-contact:6532212256\n",
      "Old-Contact:NULL\n",
      "Datetime:2023-08-11 16:18:21\n",
      "Operation:insert\n"
     ]
    }
   ],
   "source": [
    "cur.execute(\"select * from details_log\")\n",
    "row1=cur.fetchall()\n",
    "print(row1)\n",
    "for i in row1:\n",
    "    print(f\"\\nFname:{i[0]}\\nLname:{i[1]}\\nNew-contact:{i[2]}\\nOld-Contact:{i[3]}\\nDatetime:{i[4]}\\nOperation:{i[5]}\")"
   ]
  }
 ],
 "metadata": {
  "kernelspec": {
   "display_name": "Python 3 (ipykernel)",
   "language": "python",
   "name": "python3"
  },
  "language_info": {
   "codemirror_mode": {
    "name": "ipython",
    "version": 3
   },
   "file_extension": ".py",
   "mimetype": "text/x-python",
   "name": "python",
   "nbconvert_exporter": "python",
   "pygments_lexer": "ipython3",
   "version": "3.11.4"
  }
 },
 "nbformat": 4,
 "nbformat_minor": 5
}
